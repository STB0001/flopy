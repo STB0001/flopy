{
 "cells": [
  {
   "cell_type": "markdown",
   "metadata": {},
   "source": [
    "# Intersecting rasters with modelgrids using FloPy's Raster class\n",
    "\n",
    "A Raster class was developed as a wrapper that leverages RasterIO, RasterStats, and SciPy built in methods for easy raster intersections and cropping. \n",
    "\n",
    "This notebook will show some of the basic functionality of the `Raster` class with structured and unstructured model grid examples.\n",
    "\n",
    "The `Raster` class accepts Tiff and GeoTiff, ASCII Grid (ESRI ASCII), and Erdas Imagine .img files. \n",
    "\n",
    "Ideally this can be used to easily snap DEM rasters, PET, PPT, recharge and other rasters to a modflow grid for further processing and/or to apply as fluxes and boundary conditions to a MODFLOW model"
   ]
  },
  {
   "cell_type": "code",
   "execution_count": null,
   "metadata": {
    "execution": {
     "iopub.execute_input": "2023-05-02T02:56:25.945761Z",
     "iopub.status.busy": "2023-05-02T02:56:25.945448Z",
     "iopub.status.idle": "2023-05-02T02:56:27.582368Z",
     "shell.execute_reply": "2023-05-02T02:56:27.581271Z"
    }
   },
   "outputs": [],
   "source": [
    "import os\n",
    "import sys\n",
    "import time\n",
    "from tempfile import TemporaryDirectory\n",
    "\n",
    "import pandas as pd\n",
    "import matplotlib as mpl\n",
    "import matplotlib.pyplot as plt\n",
    "import numpy as np\n",
    "import shapely\n",
    "import shapefile\n",
    "\n",
    "try:\n",
    "    import flopy\n",
    "    from flopy.utils import Raster\n",
    "except:\n",
    "    fpth = os.path.abspath(os.path.join(\"..\", \"..\"))\n",
    "    sys.path.append(fpth)\n",
    "    import flopy\n",
    "    from flopy.utils import Raster\n",
    "\n",
    "print(sys.version)\n",
    "print(\"numpy version: {}\".format(np.__version__))\n",
    "print(\"matplotlib version: {}\".format(mpl.__version__))\n",
    "print(\"pandas version: {}\".format(pd.__version__))\n",
    "print(\"shapely version: {}\".format(shapely.__version__))\n",
    "print(\"flopy version: {}\".format(flopy.__version__))"
   ]
  },
  {
   "cell_type": "code",
   "execution_count": null,
   "metadata": {
    "execution": {
     "iopub.execute_input": "2023-05-02T02:56:27.627916Z",
     "iopub.status.busy": "2023-05-02T02:56:27.627547Z",
     "iopub.status.idle": "2023-05-02T02:56:27.632277Z",
     "shell.execute_reply": "2023-05-02T02:56:27.631471Z"
    }
   },
   "outputs": [],
   "source": [
    "# temporary directory\n",
    "temp_dir = TemporaryDirectory()\n",
    "workspace = temp_dir.name"
   ]
  },
  {
   "cell_type": "markdown",
   "metadata": {},
   "source": [
    "### Raster files can be loaded using the `Raster.load` method"
   ]
  },
  {
   "cell_type": "code",
   "execution_count": null,
   "metadata": {
    "execution": {
     "iopub.execute_input": "2023-05-02T02:56:27.635484Z",
     "iopub.status.busy": "2023-05-02T02:56:27.635170Z",
     "iopub.status.idle": "2023-05-02T02:56:27.905427Z",
     "shell.execute_reply": "2023-05-02T02:56:27.904763Z"
    }
   },
   "outputs": [],
   "source": [
    "raster_ws = os.path.join(\"..\", \"..\", \"examples\", \"data\", \"options\", \"dem\")\n",
    "raster_name = \"dem.img\"\n",
    "\n",
    "rio = Raster.load(os.path.join(raster_ws, raster_name))"
   ]
  },
  {
   "cell_type": "markdown",
   "metadata": {},
   "source": [
    "The bands within the raster can be viewed by calling the parameter `bands`; there is only one band in this raster"
   ]
  },
  {
   "cell_type": "code",
   "execution_count": null,
   "metadata": {
    "execution": {
     "iopub.execute_input": "2023-05-02T02:56:27.908015Z",
     "iopub.status.busy": "2023-05-02T02:56:27.907757Z",
     "iopub.status.idle": "2023-05-02T02:56:27.913929Z",
     "shell.execute_reply": "2023-05-02T02:56:27.913230Z"
    }
   },
   "outputs": [],
   "source": [
    "rio.bands"
   ]
  },
  {
   "cell_type": "code",
   "execution_count": null,
   "metadata": {
    "execution": {
     "iopub.execute_input": "2023-05-02T02:56:27.916403Z",
     "iopub.status.busy": "2023-05-02T02:56:27.915984Z",
     "iopub.status.idle": "2023-05-02T02:56:27.930779Z",
     "shell.execute_reply": "2023-05-02T02:56:27.930115Z"
    }
   },
   "outputs": [],
   "source": [
    "arr = rio.get_array(1)\n",
    "idx = np.isfinite(arr)\n",
    "\n",
    "vmin, vmax = arr[idx].min(), arr[idx].max()\n",
    "vmin, vmax"
   ]
  },
  {
   "cell_type": "markdown",
   "metadata": {},
   "source": [
    "Using the built in `.plot` method, we can take a look at the DEM raster data before we start manipulating it"
   ]
  },
  {
   "cell_type": "code",
   "execution_count": null,
   "metadata": {
    "execution": {
     "iopub.execute_input": "2023-05-02T02:56:27.934031Z",
     "iopub.status.busy": "2023-05-02T02:56:27.933557Z",
     "iopub.status.idle": "2023-05-02T02:56:28.620605Z",
     "shell.execute_reply": "2023-05-02T02:56:28.619716Z"
    }
   },
   "outputs": [],
   "source": [
    "fig = plt.figure(figsize=(12, 12))\n",
    "ax = fig.add_subplot(1, 1, 1, aspect=\"equal\")\n",
    "\n",
    "ax = rio.plot(ax=ax, vmin=vmin, vmax=vmax)\n",
    "plt.colorbar(ax.images[0], shrink=0.7);"
   ]
  },
  {
   "cell_type": "markdown",
   "metadata": {},
   "source": [
    "## Intersecting and resampling a data using the FloPy ModelGrid\n",
    "\n",
    "### Structured Grid Example\n",
    "\n",
    "The structured grid example uses the DIS file from the GSFLOW Sagehen example problem to create a modelgrid"
   ]
  },
  {
   "cell_type": "code",
   "execution_count": null,
   "metadata": {
    "execution": {
     "iopub.execute_input": "2023-05-02T02:56:28.625886Z",
     "iopub.status.busy": "2023-05-02T02:56:28.625586Z",
     "iopub.status.idle": "2023-05-02T02:56:28.839330Z",
     "shell.execute_reply": "2023-05-02T02:56:28.838627Z"
    }
   },
   "outputs": [],
   "source": [
    "model_ws = os.path.join(\"..\", \"..\", \"examples\", \"data\", \"options\", \"sagehen\")\n",
    "ml = flopy.modflow.Modflow.load(\n",
    "    \"sagehen.nam\", version=\"mfnwt\", model_ws=model_ws\n",
    ")\n",
    "\n",
    "xoff = 214110\n",
    "yoff = 4366620\n",
    "ml.modelgrid.set_coord_info(xoff=xoff, yoff=yoff)"
   ]
  },
  {
   "cell_type": "code",
   "execution_count": null,
   "metadata": {
    "execution": {
     "iopub.execute_input": "2023-05-02T02:56:28.842090Z",
     "iopub.status.busy": "2023-05-02T02:56:28.841797Z",
     "iopub.status.idle": "2023-05-02T02:56:29.471421Z",
     "shell.execute_reply": "2023-05-02T02:56:29.470466Z"
    }
   },
   "outputs": [],
   "source": [
    "fig = plt.figure(figsize=(12, 12))\n",
    "ax = fig.add_subplot(1, 1, 1, aspect=\"equal\")\n",
    "\n",
    "ax = rio.plot(ax=ax, vmin=vmin, vmax=vmax)\n",
    "plt.colorbar(ax.images[0], shrink=0.7)\n",
    "pmv = flopy.plot.PlotMapView(modelgrid=ml.modelgrid)\n",
    "pmv.plot_grid(ax=ax, lw=0.5, color=\"black\");"
   ]
  },
  {
   "cell_type": "markdown",
   "metadata": {},
   "source": [
    "Once a modelgrid has been loaded, the `resample_to_grid()` method can be used to re-sample the data to an array consistent with the model grid.  \n",
    "\n",
    "Inputs to `resample_to_grid()` include:\n",
    "\n",
    "+ `modelgrid` : flopy `Grid` object \n",
    "+ `band` : raster band to resample  \n",
    "+ `method` : resampling method, options include:  \n",
    "    - `\"nearest\"` for nearest neighbor   \n",
    "    - `\"linear\"` for bilinear sampling  \n",
    "    - `\"cubic\"` for bicubic sampling  \n",
    "    - `\"mean\"` for mean value sampling\n",
    "    - `\"median\"` for median value sampling\n",
    "    - `\"min\"` for minimum value sampling\n",
    "    - `\"max\"` for maximum value sampling\n",
    "    - `\"mode\"` for most often (dominant) sampling\n",
    "+ `extrapolate_edges` : boolean flag to extrapolate edges using the `\"nearest\"` resampling method. For all of the sampling methods except `\"nearest\"`, interpolation is only performed in areas bounded by data; nodata values are returned in areas without data. This option has no effect when the `\"nearest\"` interpolation method is used.\n",
    "    \n",
    "**Note:** Bottlenecks in sampling time depend on the resampling method used:\n",
    "+ `\"nearest\"`, `\"linear\"`, and `\"cubic\"` bottlenecks are due to raster resolution. \n",
    "+ `\"mean\"`, `\"median\"`, `\"min\"`, `\"max\"`, and `\"mode\"` are a function of the number of grid cells. "
   ]
  },
  {
   "cell_type": "code",
   "execution_count": null,
   "metadata": {
    "execution": {
     "iopub.execute_input": "2023-05-02T02:56:29.480450Z",
     "iopub.status.busy": "2023-05-02T02:56:29.480097Z",
     "iopub.status.idle": "2023-05-02T02:56:31.660932Z",
     "shell.execute_reply": "2023-05-02T02:56:31.660281Z"
    }
   },
   "outputs": [],
   "source": [
    "t0 = time.time()\n",
    "dem_data = rio.resample_to_grid(\n",
    "    ml.modelgrid, band=rio.bands[0], method=\"nearest\"\n",
    ")\n",
    "resample_time = time.time() - t0"
   ]
  },
  {
   "cell_type": "code",
   "execution_count": null,
   "metadata": {
    "execution": {
     "iopub.execute_input": "2023-05-02T02:56:31.663547Z",
     "iopub.status.busy": "2023-05-02T02:56:31.663269Z",
     "iopub.status.idle": "2023-05-02T02:56:32.085503Z",
     "shell.execute_reply": "2023-05-02T02:56:32.084368Z"
    }
   },
   "outputs": [],
   "source": [
    "# now to visualize using flopy and matplotlib\n",
    "fig = plt.figure(figsize=(12, 12))\n",
    "ax = fig.add_subplot(1, 1, 1, aspect=\"equal\")\n",
    "\n",
    "pmv = flopy.plot.PlotMapView(modelgrid=ml.modelgrid, ax=ax)\n",
    "ax = pmv.plot_array(\n",
    "    dem_data, masked_values=rio.nodatavals, vmin=vmin, vmax=vmax\n",
    ")\n",
    "plt.title(\"Resample time, nearest neighbor: {:.3f} sec\".format(resample_time))\n",
    "plt.colorbar(ax, shrink=0.7);"
   ]
  },
  {
   "cell_type": "code",
   "execution_count": null,
   "metadata": {
    "execution": {
     "iopub.execute_input": "2023-05-02T02:56:32.088985Z",
     "iopub.status.busy": "2023-05-02T02:56:32.088682Z",
     "iopub.status.idle": "2023-05-02T02:58:28.876852Z",
     "shell.execute_reply": "2023-05-02T02:58:28.875985Z"
    }
   },
   "outputs": [],
   "source": [
    "t0 = time.time()\n",
    "dem_data = rio.resample_to_grid(\n",
    "    ml.modelgrid, band=rio.bands[0], method=\"linear\", extrapolate_edges=True\n",
    ")\n",
    "resample_time = time.time() - t0"
   ]
  },
  {
   "cell_type": "code",
   "execution_count": null,
   "metadata": {
    "execution": {
     "iopub.execute_input": "2023-05-02T02:58:28.879348Z",
     "iopub.status.busy": "2023-05-02T02:58:28.879095Z",
     "iopub.status.idle": "2023-05-02T02:58:29.239033Z",
     "shell.execute_reply": "2023-05-02T02:58:29.238269Z"
    }
   },
   "outputs": [],
   "source": [
    "# now to visualize using flopy and matplotlib\n",
    "fig = plt.figure(figsize=(12, 12))\n",
    "ax = fig.add_subplot(1, 1, 1, aspect=\"equal\")\n",
    "\n",
    "pmv = flopy.plot.PlotMapView(modelgrid=ml.modelgrid, ax=ax)\n",
    "ax = pmv.plot_array(\n",
    "    dem_data, masked_values=rio.nodatavals, vmin=vmin, vmax=vmax\n",
    ")\n",
    "plt.title(\"Resample time, bi-linear: {:.3f} sec\".format(resample_time))\n",
    "plt.colorbar(ax, shrink=0.7);"
   ]
  },
  {
   "cell_type": "code",
   "execution_count": null,
   "metadata": {
    "execution": {
     "iopub.execute_input": "2023-05-02T02:58:29.241762Z",
     "iopub.status.busy": "2023-05-02T02:58:29.241501Z",
     "iopub.status.idle": "2023-05-02T02:59:26.833114Z",
     "shell.execute_reply": "2023-05-02T02:59:26.832464Z"
    }
   },
   "outputs": [],
   "source": [
    "t0 = time.time()\n",
    "dem_data = rio.resample_to_grid(\n",
    "    ml.modelgrid, band=rio.bands[0], method=\"cubic\", extrapolate_edges=True\n",
    ")\n",
    "resample_time = time.time() - t0"
   ]
  },
  {
   "cell_type": "code",
   "execution_count": null,
   "metadata": {
    "execution": {
     "iopub.execute_input": "2023-05-02T02:59:26.835615Z",
     "iopub.status.busy": "2023-05-02T02:59:26.835368Z",
     "iopub.status.idle": "2023-05-02T02:59:27.170342Z",
     "shell.execute_reply": "2023-05-02T02:59:27.169708Z"
    }
   },
   "outputs": [],
   "source": [
    "# now to visualize using flopy and matplotlib\n",
    "fig = plt.figure(figsize=(12, 12))\n",
    "ax = fig.add_subplot(1, 1, 1, aspect=\"equal\")\n",
    "\n",
    "pmv = flopy.plot.PlotMapView(modelgrid=ml.modelgrid, ax=ax)\n",
    "ax = pmv.plot_array(\n",
    "    dem_data, masked_values=rio.nodatavals, vmin=vmin, vmax=vmax\n",
    ")\n",
    "plt.title(\"Resample time, bi-cubic: {:.3f} sec\".format(resample_time))\n",
    "plt.colorbar(ax, shrink=0.7);"
   ]
  },
  {
   "cell_type": "code",
   "execution_count": null,
   "metadata": {
    "execution": {
     "iopub.execute_input": "2023-05-02T02:59:27.172707Z",
     "iopub.status.busy": "2023-05-02T02:59:27.172447Z",
     "iopub.status.idle": "2023-05-02T02:59:34.510872Z",
     "shell.execute_reply": "2023-05-02T02:59:34.510320Z"
    }
   },
   "outputs": [],
   "source": [
    "t0 = time.time()\n",
    "dem_data = rio.resample_to_grid(\n",
    "    ml.modelgrid,\n",
    "    band=rio.bands[0],\n",
    "    method=\"median\",\n",
    "    extrapolate_edges=True,\n",
    ")\n",
    "resample_time = time.time() - t0"
   ]
  },
  {
   "cell_type": "code",
   "execution_count": null,
   "metadata": {
    "execution": {
     "iopub.execute_input": "2023-05-02T02:59:34.513068Z",
     "iopub.status.busy": "2023-05-02T02:59:34.512836Z",
     "iopub.status.idle": "2023-05-02T02:59:34.810445Z",
     "shell.execute_reply": "2023-05-02T02:59:34.809911Z"
    }
   },
   "outputs": [],
   "source": [
    "# now to visualize using flopy and matplotlib\n",
    "fig = plt.figure(figsize=(12, 12))\n",
    "ax = fig.add_subplot(1, 1, 1, aspect=\"equal\")\n",
    "\n",
    "pmv = flopy.plot.PlotMapView(modelgrid=ml.modelgrid, ax=ax)\n",
    "ax = pmv.plot_array(\n",
    "    dem_data, masked_values=rio.nodatavals, vmin=vmin, vmax=vmax\n",
    ")\n",
    "plt.title(\"Resample time, median: {:.3f} sec\".format(resample_time))\n",
    "plt.colorbar(ax, shrink=0.7);"
   ]
  },
  {
   "cell_type": "markdown",
   "metadata": {},
   "source": [
    "## Vertex and Unstructured grid example\n",
    "\n",
    "The user can also use either a vertex grid or an unstructured grid and resample raster data to it using the same `resample_to_grid()` method\n",
    "\n",
    "Here is an example of building a triangular mesh and creating an unstructured grid instance to use for Raster resampling"
   ]
  },
  {
   "cell_type": "code",
   "execution_count": null,
   "metadata": {
    "execution": {
     "iopub.execute_input": "2023-05-02T02:59:34.812806Z",
     "iopub.status.busy": "2023-05-02T02:59:34.812585Z",
     "iopub.status.idle": "2023-05-02T02:59:34.927762Z",
     "shell.execute_reply": "2023-05-02T02:59:34.926971Z"
    }
   },
   "outputs": [],
   "source": [
    "from flopy.utils.triangle import Triangle\n",
    "\n",
    "maximum_area = 30000.0  # 30000.\n",
    "\n",
    "extent = rio.bounds\n",
    "domainpoly = [\n",
    "    (extent[0], extent[2]),\n",
    "    (extent[1], extent[2]),\n",
    "    (extent[1], extent[3]),\n",
    "    (extent[0], extent[3]),\n",
    "]\n",
    "\n",
    "tri = Triangle(maximum_area=maximum_area, angle=30, model_ws=workspace)\n",
    "\n",
    "tri.add_polygon(domainpoly)\n",
    "tri.build(verbose=False)\n",
    "xc, yc = tri.get_xcyc().T\n",
    "verts = [[iv, x, y] for iv, (x, y) in enumerate(tri.verts)]\n",
    "iverts = tri.iverts\n",
    "ncpl = np.array([len(iverts)])\n",
    "\n",
    "mg_unstruct = flopy.discretization.UnstructuredGrid(\n",
    "    vertices=verts, iverts=iverts, ncpl=ncpl, xcenters=xc, ycenters=yc\n",
    ")"
   ]
  },
  {
   "cell_type": "code",
   "execution_count": null,
   "metadata": {
    "execution": {
     "iopub.execute_input": "2023-05-02T02:59:34.930344Z",
     "iopub.status.busy": "2023-05-02T02:59:34.930110Z",
     "iopub.status.idle": "2023-05-02T02:59:35.477881Z",
     "shell.execute_reply": "2023-05-02T02:59:35.477046Z"
    }
   },
   "outputs": [],
   "source": [
    "# now to visualize using matplotlib\n",
    "fig = plt.figure(figsize=(12, 12))\n",
    "ax = fig.add_subplot(1, 1, 1, aspect=\"equal\")\n",
    "\n",
    "pmv = flopy.plot.PlotMapView(modelgrid=mg_unstruct, ax=ax)\n",
    "pmv.plot_grid();"
   ]
  },
  {
   "cell_type": "markdown",
   "metadata": {},
   "source": [
    "Once a grid object is created, the raster can be resampled to the grid using the same `resample_to_grid()` method as the structured grid example"
   ]
  },
  {
   "cell_type": "code",
   "execution_count": null,
   "metadata": {
    "execution": {
     "iopub.execute_input": "2023-05-02T02:59:35.490141Z",
     "iopub.status.busy": "2023-05-02T02:59:35.489879Z",
     "iopub.status.idle": "2023-05-02T02:59:35.684730Z",
     "shell.execute_reply": "2023-05-02T02:59:35.684129Z"
    }
   },
   "outputs": [],
   "source": [
    "t0 = time.time()\n",
    "dem_data = rio.resample_to_grid(\n",
    "    mg_unstruct, band=rio.bands[0], method=\"nearest\"\n",
    ")\n",
    "\n",
    "resample_time = time.time() - t0"
   ]
  },
  {
   "cell_type": "code",
   "execution_count": null,
   "metadata": {
    "execution": {
     "iopub.execute_input": "2023-05-02T02:59:35.687017Z",
     "iopub.status.busy": "2023-05-02T02:59:35.686796Z",
     "iopub.status.idle": "2023-05-02T02:59:36.084101Z",
     "shell.execute_reply": "2023-05-02T02:59:36.083358Z"
    }
   },
   "outputs": [],
   "source": [
    "# now to visualize using flopy and matplotlib\n",
    "fig = plt.figure(figsize=(12, 12))\n",
    "ax = fig.add_subplot(1, 1, 1, aspect=\"equal\")\n",
    "\n",
    "pmv = flopy.plot.PlotMapView(modelgrid=mg_unstruct, ax=ax)\n",
    "ax = pmv.plot_array(\n",
    "    dem_data,\n",
    "    masked_values=rio.nodatavals,\n",
    "    cmap=\"viridis\",\n",
    "    vmin=vmin,\n",
    "    vmax=vmax,\n",
    ")\n",
    "plt.title(\"Resample time, nearest neighbor: {:.3f} sec\".format(resample_time))\n",
    "plt.colorbar(ax, shrink=0.7);"
   ]
  },
  {
   "cell_type": "code",
   "execution_count": null,
   "metadata": {
    "execution": {
     "iopub.execute_input": "2023-05-02T02:59:36.090943Z",
     "iopub.status.busy": "2023-05-02T02:59:36.090719Z",
     "iopub.status.idle": "2023-05-02T03:00:13.798508Z",
     "shell.execute_reply": "2023-05-02T03:00:13.797494Z"
    }
   },
   "outputs": [],
   "source": [
    "t0 = time.time()\n",
    "dem_data = rio.resample_to_grid(\n",
    "    mg_unstruct, band=rio.bands[0], method=\"linear\"\n",
    ")\n",
    "\n",
    "resample_time = time.time() - t0"
   ]
  },
  {
   "cell_type": "code",
   "execution_count": null,
   "metadata": {
    "execution": {
     "iopub.execute_input": "2023-05-02T03:00:13.801783Z",
     "iopub.status.busy": "2023-05-02T03:00:13.801473Z",
     "iopub.status.idle": "2023-05-02T03:00:14.255516Z",
     "shell.execute_reply": "2023-05-02T03:00:14.254896Z"
    }
   },
   "outputs": [],
   "source": [
    "# now to visualize using flopy and matplotlib\n",
    "fig = plt.figure(figsize=(12, 12))\n",
    "ax = fig.add_subplot(1, 1, 1, aspect=\"equal\")\n",
    "\n",
    "pmv = flopy.plot.PlotMapView(modelgrid=mg_unstruct, ax=ax)\n",
    "ax = pmv.plot_array(\n",
    "    dem_data,\n",
    "    masked_values=rio.nodatavals,\n",
    "    cmap=\"viridis\",\n",
    "    vmin=vmin,\n",
    "    vmax=vmax,\n",
    ")\n",
    "plt.title(\"Resample time, bi-linear: {:.3f} sec\".format(resample_time))\n",
    "plt.colorbar(ax, shrink=0.7);"
   ]
  },
  {
   "cell_type": "code",
   "execution_count": null,
   "metadata": {
    "execution": {
     "iopub.execute_input": "2023-05-02T03:00:14.264357Z",
     "iopub.status.busy": "2023-05-02T03:00:14.264089Z",
     "iopub.status.idle": "2023-05-02T03:00:18.030576Z",
     "shell.execute_reply": "2023-05-02T03:00:18.030027Z"
    }
   },
   "outputs": [],
   "source": [
    "t0 = time.time()\n",
    "dem_data = rio.resample_to_grid(\n",
    "    mg_unstruct,\n",
    "    band=rio.bands[0],\n",
    "    method=\"median\",\n",
    ")\n",
    "\n",
    "resample_time = time.time() - t0"
   ]
  },
  {
   "cell_type": "code",
   "execution_count": null,
   "metadata": {
    "execution": {
     "iopub.execute_input": "2023-05-02T03:00:18.032895Z",
     "iopub.status.busy": "2023-05-02T03:00:18.032674Z",
     "iopub.status.idle": "2023-05-02T03:00:18.490973Z",
     "shell.execute_reply": "2023-05-02T03:00:18.490377Z"
    }
   },
   "outputs": [],
   "source": [
    "# now to visualize using flopy and matplotlib\n",
    "fig = plt.figure(figsize=(12, 12))\n",
    "ax = fig.add_subplot(1, 1, 1, aspect=\"equal\")\n",
    "\n",
    "pmv = flopy.plot.PlotMapView(modelgrid=mg_unstruct, ax=ax)\n",
    "ax = pmv.plot_array(\n",
    "    dem_data,\n",
    "    masked_values=rio.nodatavals,\n",
    "    cmap=\"viridis\",\n",
    "    vmin=vmin,\n",
    "    vmax=vmax,\n",
    ")\n",
    "plt.title(\"Resample time, median: {:.3f} sec\".format(resample_time))\n",
    "plt.colorbar(ax, shrink=0.7);"
   ]
  },
  {
   "cell_type": "markdown",
   "metadata": {},
   "source": [
    "__Note: bi-cubic sampling does not work well with triangular meshes and is not recommended for unstructured grids__"
   ]
  },
  {
   "cell_type": "markdown",
   "metadata": {},
   "source": [
    "# Sampling points, Cropping, and performing intersections using raster data\n",
    "\n",
    "The `Raster` class contains useful methods for sampling single points, cross sections, cropping and performing intersections.\n",
    "\n",
    "The `sample_point()` method can be used to sample a single raster value or to sample a cross section\n",
    "\n",
    "The `sample_polygon()` method can be used to sample all raster values within an arbitrary polygone\n",
    "\n",
    "The `crop()` method allows the user to crop the raster in-place. This method can also be used to perform intersections.\n",
    "\n",
    "The `crop()` and `sample_polygon()` methods apply a modified binary ray casting algorithm for extremely fast intersections. The raster data that's used for this example contains over 500,000 points. For each intersection every point must be segmented as inside or outside of an arbitratry polygon."
   ]
  },
  {
   "cell_type": "markdown",
   "metadata": {},
   "source": [
    "### Sampling points or a cross section from the raster\n",
    "\n",
    "The user can also sample from a points within the raster using the `sample_point()` method.\n",
    "\n",
    "This can be used to create simple cross sections of data, such as an elevation profile"
   ]
  },
  {
   "cell_type": "code",
   "execution_count": null,
   "metadata": {
    "execution": {
     "iopub.execute_input": "2023-05-02T03:00:18.498723Z",
     "iopub.status.busy": "2023-05-02T03:00:18.498479Z",
     "iopub.status.idle": "2023-05-02T03:00:19.637212Z",
     "shell.execute_reply": "2023-05-02T03:00:19.636459Z"
    }
   },
   "outputs": [],
   "source": [
    "d = {\"easting\": [], \"northing\": [], \"elevation\": []}\n",
    "\n",
    "for adj in range(1, 10000, 100):\n",
    "    easting = xoff + adj\n",
    "    northing = yoff + adj\n",
    "    val = rio.sample_point(xoff + adj, yoff + adj, band=1)\n",
    "    d[\"easting\"].append(easting)\n",
    "    d[\"northing\"].append(northing)\n",
    "    d[\"elevation\"].append(val)\n",
    "\n",
    "df = pd.DataFrame(d)"
   ]
  },
  {
   "cell_type": "code",
   "execution_count": null,
   "metadata": {
    "execution": {
     "iopub.execute_input": "2023-05-02T03:00:19.639901Z",
     "iopub.status.busy": "2023-05-02T03:00:19.639649Z",
     "iopub.status.idle": "2023-05-02T03:00:19.824925Z",
     "shell.execute_reply": "2023-05-02T03:00:19.824034Z"
    }
   },
   "outputs": [],
   "source": [
    "fig = plt.figure(figsize=(12, 12))\n",
    "ax = fig.add_subplot(1, 1, 1, aspect=\"equal\")\n",
    "\n",
    "ax.plot(df.easting.values, df.elevation.values, color=\"saddlebrown\")\n",
    "ax.set_ylabel(\"Meters elevation (ASL)\")\n",
    "ax.set_xlabel(\"Easting\")\n",
    "ax.set_title(\"Elevation profile\")\n",
    "\n",
    "df.head()"
   ]
  },
  {
   "cell_type": "markdown",
   "metadata": {},
   "source": [
    "### Sampling all points within a polygon in the raster\n",
    "\n",
    "The user can also sample all points within an arbitrary polygon within the raster using the `sample_polygon()` method.\n",
    "\n",
    "The `sample_polygon()` method returns an unordered array of raster values that can be used to perform statical analysis on a chunk of the raster data"
   ]
  },
  {
   "cell_type": "code",
   "execution_count": null,
   "metadata": {
    "execution": {
     "iopub.execute_input": "2023-05-02T03:00:19.828153Z",
     "iopub.status.busy": "2023-05-02T03:00:19.827844Z",
     "iopub.status.idle": "2023-05-02T03:00:19.832399Z",
     "shell.execute_reply": "2023-05-02T03:00:19.831695Z"
    }
   },
   "outputs": [],
   "source": [
    "x0, x1, y0, y1 = rio.bounds\n",
    "\n",
    "# let's create an a square to use for sampling and cropping\n",
    "x0 += 1000\n",
    "y0 += 1000\n",
    "x1 -= 1000\n",
    "y1 -= 1000\n",
    "\n",
    "shape = np.array([(x0, y0), (x0, y1), (x1, y1), (x1, y0), (x0, y0)])"
   ]
  },
  {
   "cell_type": "code",
   "execution_count": null,
   "metadata": {
    "execution": {
     "iopub.execute_input": "2023-05-02T03:00:19.835242Z",
     "iopub.status.busy": "2023-05-02T03:00:19.834832Z",
     "iopub.status.idle": "2023-05-02T03:00:20.380385Z",
     "shell.execute_reply": "2023-05-02T03:00:20.379730Z"
    }
   },
   "outputs": [],
   "source": [
    "fig = plt.figure(figsize=(12, 12))\n",
    "ax = fig.add_subplot(1, 1, 1, aspect=\"equal\")\n",
    "\n",
    "ax = rio.plot(ax=ax, vmin=vmin, vmax=vmax)\n",
    "ax.plot(shape.T[0], shape.T[1], \"r-\")\n",
    "plt.colorbar(ax.images[0], shrink=0.7);"
   ]
  },
  {
   "cell_type": "code",
   "execution_count": null,
   "metadata": {
    "execution": {
     "iopub.execute_input": "2023-05-02T03:00:20.385257Z",
     "iopub.status.busy": "2023-05-02T03:00:20.384851Z",
     "iopub.status.idle": "2023-05-02T03:00:20.436931Z",
     "shell.execute_reply": "2023-05-02T03:00:20.436295Z"
    }
   },
   "outputs": [],
   "source": [
    "data = rio.sample_polygon(shape, band=rio.bands[0])\n",
    "\n",
    "mean = np.mean(data)\n",
    "dmin = np.min(data)\n",
    "dmax = np.max(data)\n",
    "stdv = np.std(data)\n",
    "\n",
    "s = \"Minimum elevation: {:.2f}\\nMaximum elevation: {:.2f}\\nMean elevation: {:.2f}\\nStandard deviation: {:.2f}\"\n",
    "print(s.format(dmin, dmax, mean, stdv))"
   ]
  },
  {
   "cell_type": "markdown",
   "metadata": {},
   "source": [
    "### Cropping and resampling to a modelgrid\n",
    "\n",
    "The `crop()` method can accept a `list` or `np.array` of vertices, a shapely `Polygon` object, or a GeoJSON dictionary\n",
    "\n",
    "The crop can also be inverted, using `invert=True`"
   ]
  },
  {
   "cell_type": "code",
   "execution_count": null,
   "metadata": {
    "execution": {
     "iopub.execute_input": "2023-05-02T03:00:20.439472Z",
     "iopub.status.busy": "2023-05-02T03:00:20.439237Z",
     "iopub.status.idle": "2023-05-02T03:00:20.523885Z",
     "shell.execute_reply": "2023-05-02T03:00:20.523237Z"
    }
   },
   "outputs": [],
   "source": [
    "t0 = time.time()\n",
    "rio.crop(shape, invert=True)\n",
    "crop_time = time.time() - t0"
   ]
  },
  {
   "cell_type": "code",
   "execution_count": null,
   "metadata": {
    "execution": {
     "iopub.execute_input": "2023-05-02T03:00:20.526425Z",
     "iopub.status.busy": "2023-05-02T03:00:20.526167Z",
     "iopub.status.idle": "2023-05-02T03:00:21.049451Z",
     "shell.execute_reply": "2023-05-02T03:00:21.048889Z"
    }
   },
   "outputs": [],
   "source": [
    "fig = plt.figure(figsize=(12, 12))\n",
    "ax = fig.add_subplot(1, 1, 1, aspect=\"equal\")\n",
    "\n",
    "ax = rio.plot(ax=ax, vmin=vmin, vmax=vmax)\n",
    "ax.plot(shape.T[0], shape.T[1], \"r-\")\n",
    "plt.title(\"Cropping time: {:.3f} sec\".format(crop_time))\n",
    "plt.colorbar(ax.images[0], shrink=0.7);"
   ]
  },
  {
   "cell_type": "markdown",
   "metadata": {},
   "source": [
    "And then this can be re-sampled to a ModelGrid Object"
   ]
  },
  {
   "cell_type": "code",
   "execution_count": null,
   "metadata": {
    "execution": {
     "iopub.execute_input": "2023-05-02T03:00:21.052363Z",
     "iopub.status.busy": "2023-05-02T03:00:21.052128Z",
     "iopub.status.idle": "2023-05-02T03:00:21.231331Z",
     "shell.execute_reply": "2023-05-02T03:00:21.230735Z"
    }
   },
   "outputs": [],
   "source": [
    "t0 = time.time()\n",
    "dem_data = rio.resample_to_grid(\n",
    "    mg_unstruct, band=rio.bands[0], method=\"nearest\"\n",
    ")\n",
    "\n",
    "resample_time = time.time() - t0"
   ]
  },
  {
   "cell_type": "code",
   "execution_count": null,
   "metadata": {
    "execution": {
     "iopub.execute_input": "2023-05-02T03:00:21.233589Z",
     "iopub.status.busy": "2023-05-02T03:00:21.233357Z",
     "iopub.status.idle": "2023-05-02T03:00:21.581042Z",
     "shell.execute_reply": "2023-05-02T03:00:21.580507Z"
    }
   },
   "outputs": [],
   "source": [
    "# now to visualize using flopy and matplotlib\n",
    "fig = plt.figure(figsize=(12, 12))\n",
    "ax = fig.add_subplot(1, 1, 1, aspect=\"equal\")\n",
    "\n",
    "pmv = flopy.plot.PlotMapView(modelgrid=mg_unstruct, ax=ax)\n",
    "ax = pmv.plot_array(\n",
    "    dem_data,\n",
    "    masked_values=rio.nodatavals,\n",
    "    cmap=\"viridis\",\n",
    "    vmin=vmin,\n",
    "    vmax=vmax,\n",
    ")\n",
    "plt.plot(shape.T[0], shape.T[1], \"r-\")\n",
    "plt.title(\"Resample time, nearest neighbor: {:.3f} sec\".format(resample_time))\n",
    "plt.colorbar(ax, shrink=0.7);"
   ]
  },
  {
   "cell_type": "code",
   "execution_count": null,
   "metadata": {
    "execution": {
     "iopub.execute_input": "2023-05-02T03:00:21.585717Z",
     "iopub.status.busy": "2023-05-02T03:00:21.585476Z",
     "iopub.status.idle": "2023-05-02T03:00:45.653051Z",
     "shell.execute_reply": "2023-05-02T03:00:45.652191Z"
    }
   },
   "outputs": [],
   "source": [
    "t0 = time.time()\n",
    "dem_data = rio.resample_to_grid(\n",
    "    mg_unstruct, band=rio.bands[0], method=\"linear\"\n",
    ")\n",
    "\n",
    "resample_time = time.time() - t0"
   ]
  },
  {
   "cell_type": "code",
   "execution_count": null,
   "metadata": {
    "execution": {
     "iopub.execute_input": "2023-05-02T03:00:45.656400Z",
     "iopub.status.busy": "2023-05-02T03:00:45.656057Z",
     "iopub.status.idle": "2023-05-02T03:00:46.052079Z",
     "shell.execute_reply": "2023-05-02T03:00:46.051494Z"
    }
   },
   "outputs": [],
   "source": [
    "# now to visualize using flopy and matplotlib\n",
    "fig = plt.figure(figsize=(12, 12))\n",
    "ax = fig.add_subplot(1, 1, 1, aspect=\"equal\")\n",
    "\n",
    "pmv = flopy.plot.PlotMapView(modelgrid=mg_unstruct, ax=ax)\n",
    "ax = pmv.plot_array(\n",
    "    dem_data,\n",
    "    masked_values=rio.nodatavals,\n",
    "    cmap=\"viridis\",\n",
    "    vmin=vmin,\n",
    "    vmax=vmax,\n",
    ")\n",
    "plt.plot(shape.T[0], shape.T[1], \"r-\")\n",
    "plt.title(\"Resample time, bi-linear: {:.3f} sec\".format(resample_time))\n",
    "plt.colorbar(ax, shrink=0.7);"
   ]
  },
  {
   "cell_type": "markdown",
   "metadata": {},
   "source": [
    "### Here's an example of loading an arbitrary shape that will be used to define a model boundary\n",
    "\n",
    "In the example pyshp and shapely are used to get geometry information and then we create a top array and an ibound array using that geometry information\n",
    "\n",
    "First let's reload the raster (since operations are done in-place) and then load our shapefile data"
   ]
  },
  {
   "cell_type": "code",
   "execution_count": null,
   "metadata": {
    "execution": {
     "iopub.execute_input": "2023-05-02T03:00:46.056846Z",
     "iopub.status.busy": "2023-05-02T03:00:46.056597Z",
     "iopub.status.idle": "2023-05-02T03:00:46.084365Z",
     "shell.execute_reply": "2023-05-02T03:00:46.083765Z"
    }
   },
   "outputs": [],
   "source": [
    "rio = Raster.load(os.path.join(raster_ws, raster_name))\n",
    "\n",
    "shp_name = os.path.join(raster_ws, \"model_boundary.shp\")\n",
    "\n",
    "# read in the shapefile\n",
    "sf = shapefile.Reader(shp_name)\n",
    "shapes = sf.shapes()"
   ]
  },
  {
   "cell_type": "code",
   "execution_count": null,
   "metadata": {
    "execution": {
     "iopub.execute_input": "2023-05-02T03:00:46.086961Z",
     "iopub.status.busy": "2023-05-02T03:00:46.086701Z",
     "iopub.status.idle": "2023-05-02T03:00:46.642371Z",
     "shell.execute_reply": "2023-05-02T03:00:46.641737Z"
    }
   },
   "outputs": [],
   "source": [
    "fig = plt.figure(figsize=(12, 12))\n",
    "ax = fig.add_subplot(1, 1, 1, aspect=\"equal\")\n",
    "\n",
    "ax = rio.plot(ax=ax, vmin=vmin, vmax=vmax)\n",
    "\n",
    "# plot the shapes for visualization\n",
    "for shp in shapes:\n",
    "    shp = np.array(shp.points).T\n",
    "    plt.plot(shp[0], shp[1], \"r-\")\n",
    "plt.colorbar(ax.images[0], shrink=0.7);"
   ]
  },
  {
   "cell_type": "markdown",
   "metadata": {},
   "source": [
    "Now we can apply an intersection using the point data directly from the shapefile class"
   ]
  },
  {
   "cell_type": "code",
   "execution_count": null,
   "metadata": {
    "execution": {
     "iopub.execute_input": "2023-05-02T03:00:46.648500Z",
     "iopub.status.busy": "2023-05-02T03:00:46.648226Z",
     "iopub.status.idle": "2023-05-02T03:00:46.836532Z",
     "shell.execute_reply": "2023-05-02T03:00:46.835675Z"
    }
   },
   "outputs": [],
   "source": [
    "polygon = shapes[0].points\n",
    "\n",
    "t0 = time.time()\n",
    "rio.crop(polygon)\n",
    "crop_time = time.time() - t0"
   ]
  },
  {
   "cell_type": "code",
   "execution_count": null,
   "metadata": {
    "execution": {
     "iopub.execute_input": "2023-05-02T03:00:46.839192Z",
     "iopub.status.busy": "2023-05-02T03:00:46.838926Z",
     "iopub.status.idle": "2023-05-02T03:00:47.399516Z",
     "shell.execute_reply": "2023-05-02T03:00:47.398873Z"
    }
   },
   "outputs": [],
   "source": [
    "fig = plt.figure(figsize=(12, 12))\n",
    "ax = fig.add_subplot(1, 1, 1, aspect=\"equal\")\n",
    "\n",
    "ax = rio.plot(ax=ax, vmin=vmin, vmax=vmax)\n",
    "\n",
    "shape = np.array(polygon).T\n",
    "plt.plot(shape[0], shape[1], \"r-\")\n",
    "plt.title(\"Cropped Arbitrary Polygon: {:.3f} sec\".format(crop_time))\n",
    "plt.colorbar(ax.images[0], shrink=0.7);"
   ]
  },
  {
   "cell_type": "markdown",
   "metadata": {},
   "source": [
    "Now the data can be re-sampled to the modelgrid"
   ]
  },
  {
   "cell_type": "code",
   "execution_count": null,
   "metadata": {
    "execution": {
     "iopub.execute_input": "2023-05-02T03:00:47.403365Z",
     "iopub.status.busy": "2023-05-02T03:00:47.402958Z",
     "iopub.status.idle": "2023-05-02T03:01:21.004410Z",
     "shell.execute_reply": "2023-05-02T03:01:21.003576Z"
    }
   },
   "outputs": [],
   "source": [
    "top = rio.resample_to_grid(mg_unstruct, band=rio.bands[0], method=\"linear\")\n",
    "\n",
    "# apply a \"realistic\" nodataval to top cells outside the model domain\n",
    "for val in rio.nodatavals:\n",
    "    top[top == val] = 3500\n",
    "\n",
    "# create an ibound array\n",
    "ibound = np.ones(top.shape, dtype=int)\n",
    "ibound[top == 3500] = 0"
   ]
  },
  {
   "cell_type": "code",
   "execution_count": null,
   "metadata": {
    "execution": {
     "iopub.execute_input": "2023-05-02T03:01:21.007776Z",
     "iopub.status.busy": "2023-05-02T03:01:21.007279Z",
     "iopub.status.idle": "2023-05-02T03:01:21.627643Z",
     "shell.execute_reply": "2023-05-02T03:01:21.626917Z"
    }
   },
   "outputs": [],
   "source": [
    "# now to visualize using flopy and matplotlib\n",
    "fig = plt.figure(figsize=(12, 12))\n",
    "ax = fig.add_subplot(1, 1, 1, aspect=\"equal\")\n",
    "\n",
    "pmv = flopy.plot.PlotMapView(modelgrid=mg_unstruct, ax=ax)\n",
    "ax = pmv.plot_array(\n",
    "    top,\n",
    "    masked_values=[\n",
    "        3500,\n",
    "    ],\n",
    "    cmap=\"viridis\",\n",
    "    vmin=vmin,\n",
    "    vmax=vmax,\n",
    ")\n",
    "ib = pmv.plot_ibound(ibound)\n",
    "pmv.plot_grid(linewidth=0.3)\n",
    "plt.plot(shape[0], shape[1], \"r-\")\n",
    "plt.title(\n",
    "    \"Model top and ibound arrays created using bi-linear raster resampling\"\n",
    ")\n",
    "plt.colorbar(ax, shrink=0.7);"
   ]
  },
  {
   "cell_type": "markdown",
   "metadata": {},
   "source": [
    "The `ibound` array and the `top` array can be used to build or edit the BAS and DIS file objects in FloPy"
   ]
  },
  {
   "cell_type": "markdown",
   "metadata": {},
   "source": [
    "## Future development\n",
    "\n",
    "Potential features that draw on this functionality could include:  \n",
    "+ intersection with multiple polygons  \n",
    "+ flow accumulation to develop SFR networks\n",
    "+ streambed topology from raster layers\n",
    "+ intersection with layers of derived parameters based on multiple raster bands"
   ]
  },
  {
   "cell_type": "code",
   "execution_count": null,
   "metadata": {
    "execution": {
     "iopub.execute_input": "2023-05-02T03:01:21.633694Z",
     "iopub.status.busy": "2023-05-02T03:01:21.633440Z",
     "iopub.status.idle": "2023-05-02T03:01:21.638636Z",
     "shell.execute_reply": "2023-05-02T03:01:21.638139Z"
    }
   },
   "outputs": [],
   "source": [
    "try:\n",
    "    # ignore PermissionError on Windows\n",
    "    temp_dir.cleanup()\n",
    "except:\n",
    "    pass"
   ]
  }
 ],
 "metadata": {
  "kernelspec": {
   "display_name": "Python 3 (ipykernel)",
   "language": "python",
   "name": "python3"
  },
  "language_info": {
   "codemirror_mode": {
    "name": "ipython",
    "version": 3
   },
   "file_extension": ".py",
   "mimetype": "text/x-python",
   "name": "python",
   "nbconvert_exporter": "python",
   "pygments_lexer": "ipython3",
   "version": "3.11.0"
  }
 },
 "nbformat": 4,
 "nbformat_minor": 4
}
