{
 "cells": [
  {
   "attachments": {},
   "cell_type": "markdown",
   "metadata": {},
   "source": [
    "# Voronoi Grid and MODFLOW 6 Flow and Transport Example\n",
    "\n",
    "First set the path and import the required packages. The flopy path doesn't have to be set if you install flopy from a binary installer. If you want to run this notebook, you have to set the path to your own flopy path."
   ]
  },
  {
   "cell_type": "code",
   "execution_count": null,
   "metadata": {
    "execution": {
     "iopub.execute_input": "2023-05-02T02:57:00.038598Z",
     "iopub.status.busy": "2023-05-02T02:57:00.038055Z",
     "iopub.status.idle": "2023-05-02T02:57:02.080057Z",
     "shell.execute_reply": "2023-05-02T02:57:02.079140Z"
    }
   },
   "outputs": [],
   "source": [
    "import os\n",
    "import sys\n",
    "from pathlib import Path\n",
    "from tempfile import TemporaryDirectory\n",
    "\n",
    "import numpy as np\n",
    "import matplotlib as mpl\n",
    "import matplotlib.pyplot as plt\n",
    "from shapely.geometry import LineString, Point\n",
    "\n",
    "proj_root = Path.cwd().parent.parent\n",
    "\n",
    "# run installed version of flopy or add local path\n",
    "try:\n",
    "    import flopy\n",
    "except:\n",
    "    sys.path.append(proj_root)\n",
    "    import flopy\n",
    "\n",
    "from flopy.utils.triangle import Triangle as Triangle\n",
    "from flopy.utils.voronoi import VoronoiGrid\n",
    "from flopy.discretization import VertexGrid\n",
    "\n",
    "temp_dir = TemporaryDirectory()\n",
    "workspace = Path(temp_dir.name)\n",
    "\n",
    "print(sys.version)\n",
    "print(\"numpy version: {}\".format(np.__version__))\n",
    "print(\"matplotlib version: {}\".format(mpl.__version__))\n",
    "print(\"flopy version: {}\".format(flopy.__version__))"
   ]
  },
  {
   "cell_type": "markdown",
   "metadata": {},
   "source": [
    "### Use Triangle to Generate Points for Voronoi Grid"
   ]
  },
  {
   "cell_type": "code",
   "execution_count": null,
   "metadata": {
    "execution": {
     "iopub.execute_input": "2023-05-02T02:57:02.142370Z",
     "iopub.status.busy": "2023-05-02T02:57:02.141952Z",
     "iopub.status.idle": "2023-05-02T02:57:02.148244Z",
     "shell.execute_reply": "2023-05-02T02:57:02.147308Z"
    }
   },
   "outputs": [],
   "source": [
    "# set domain extents\n",
    "xmin = 0.0\n",
    "xmax = 2000.0\n",
    "ymin = 0.0\n",
    "ymax = 1000.0\n",
    "\n",
    "# set minimum angle\n",
    "angle_min = 30\n",
    "\n",
    "# set maximum area\n",
    "area_max = 1000.0\n",
    "\n",
    "delr = area_max**0.5\n",
    "ncol = xmax / delr\n",
    "nrow = ymax / delr\n",
    "nodes = ncol * nrow\n",
    "print(\"equivalent delr: \", delr)\n",
    "print(\"equivalent nodes, ncol, nrow: \", int(nodes), ncol, nrow)"
   ]
  },
  {
   "cell_type": "code",
   "execution_count": null,
   "metadata": {
    "execution": {
     "iopub.execute_input": "2023-05-02T02:57:02.151748Z",
     "iopub.status.busy": "2023-05-02T02:57:02.151353Z",
     "iopub.status.idle": "2023-05-02T02:57:02.822227Z",
     "shell.execute_reply": "2023-05-02T02:57:02.820628Z"
    }
   },
   "outputs": [],
   "source": [
    "tri = Triangle(maximum_area=area_max, angle=angle_min, model_ws=workspace)\n",
    "poly = np.array(((xmin, ymin), (xmax, ymin), (xmax, ymax), (xmin, ymax)))\n",
    "tri.add_polygon(poly)\n",
    "tri.build(verbose=False)\n",
    "\n",
    "fig = plt.figure(figsize=(10, 10))\n",
    "ax = plt.subplot(1, 1, 1, aspect=\"equal\")\n",
    "pc = tri.plot(ax=ax);"
   ]
  },
  {
   "cell_type": "markdown",
   "metadata": {},
   "source": [
    "### Create and Plot FloPy Voronoi Grid\n",
    "\n",
    "The Flopy VoronoiGrid class can be used to generate voronoi grids using the scipy.spatial.Voronoi class.  The VoronoiGrid class is a thin wrapper that makes sure edge cells are closed and provides methods for obtaining the information needed to make FloPy MODFLOW models.  It works by passing in the flopy Triangle object generated in the previous cell."
   ]
  },
  {
   "cell_type": "code",
   "execution_count": null,
   "metadata": {
    "execution": {
     "iopub.execute_input": "2023-05-02T02:57:02.831113Z",
     "iopub.status.busy": "2023-05-02T02:57:02.830662Z",
     "iopub.status.idle": "2023-05-02T02:57:03.896244Z",
     "shell.execute_reply": "2023-05-02T02:57:03.894607Z"
    }
   },
   "outputs": [],
   "source": [
    "voronoi_grid = VoronoiGrid(tri)\n",
    "fig = plt.figure(figsize=(10, 10))\n",
    "ax = plt.subplot(1, 1, 1, aspect=\"equal\")\n",
    "voronoi_grid.plot(ax=ax, facecolor=\"none\");"
   ]
  },
  {
   "cell_type": "markdown",
   "metadata": {},
   "source": [
    "### Use the VertexGrid Representation to Identify Boundary Cells"
   ]
  },
  {
   "cell_type": "code",
   "execution_count": null,
   "metadata": {
    "execution": {
     "iopub.execute_input": "2023-05-02T02:57:03.904301Z",
     "iopub.status.busy": "2023-05-02T02:57:03.903946Z",
     "iopub.status.idle": "2023-05-02T02:57:04.491198Z",
     "shell.execute_reply": "2023-05-02T02:57:04.489768Z"
    }
   },
   "outputs": [],
   "source": [
    "gridprops = voronoi_grid.get_gridprops_vertexgrid()\n",
    "vgrid = flopy.discretization.VertexGrid(**gridprops, nlay=1)\n",
    "ibd = np.zeros(vgrid.ncpl, dtype=int)\n",
    "gi = flopy.utils.GridIntersect(vgrid)\n",
    "\n",
    "# identify cells on left edge\n",
    "line = LineString([(xmin, ymin), (xmin, ymax)])\n",
    "cells0 = gi.intersect(line)[\"cellids\"]\n",
    "cells0 = np.array(list(cells0))\n",
    "ibd[cells0] = 1\n",
    "\n",
    "# identify cells on right edge\n",
    "line = LineString([(xmax, ymin), (xmax, ymax)])\n",
    "cells1 = gi.intersect(line)[\"cellids\"]\n",
    "cells1 = np.array(list(cells1))\n",
    "ibd[cells1] = 2\n",
    "\n",
    "# identify cell for a constant concentration condition\n",
    "point = Point((500, 500))\n",
    "cells2 = gi.intersect(point)[\"cellids\"]\n",
    "cells2 = np.array(list(cells2))\n",
    "ibd[cells2] = 3\n",
    "\n",
    "if True:\n",
    "    fig = plt.figure(figsize=(10, 10))\n",
    "    ax = plt.subplot(1, 1, 1, aspect=\"equal\")\n",
    "    pmv = flopy.plot.PlotMapView(modelgrid=vgrid)\n",
    "    pmv.plot_array(ibd)"
   ]
  },
  {
   "cell_type": "markdown",
   "metadata": {},
   "source": [
    "### Create Run and Post Process a MODFLOW 6 Flow Model"
   ]
  },
  {
   "cell_type": "code",
   "execution_count": null,
   "metadata": {
    "execution": {
     "iopub.execute_input": "2023-05-02T02:57:04.498260Z",
     "iopub.status.busy": "2023-05-02T02:57:04.497857Z",
     "iopub.status.idle": "2023-05-02T02:57:05.729812Z",
     "shell.execute_reply": "2023-05-02T02:57:05.728113Z"
    }
   },
   "outputs": [],
   "source": [
    "name = \"mf\"\n",
    "sim_ws = os.path.join(workspace, \"flow\")\n",
    "sim = flopy.mf6.MFSimulation(\n",
    "    sim_name=name, version=\"mf6\", exe_name=\"mf6\", sim_ws=sim_ws\n",
    ")\n",
    "tdis = flopy.mf6.ModflowTdis(\n",
    "    sim, time_units=\"DAYS\", perioddata=[[1.0, 1, 1.0]]\n",
    ")\n",
    "gwf = flopy.mf6.ModflowGwf(sim, modelname=name, save_flows=True)\n",
    "ims = flopy.mf6.ModflowIms(\n",
    "    sim,\n",
    "    print_option=\"SUMMARY\",\n",
    "    complexity=\"complex\",\n",
    "    outer_dvclose=1.0e-8,\n",
    "    inner_dvclose=1.0e-8,\n",
    ")\n",
    "disv_gridprops = voronoi_grid.get_disv_gridprops()\n",
    "nlay = 1\n",
    "top = 1.0\n",
    "botm = [0.0]\n",
    "disv = flopy.mf6.ModflowGwfdisv(\n",
    "    gwf, nlay=nlay, **disv_gridprops, top=top, botm=botm\n",
    ")\n",
    "npf = flopy.mf6.ModflowGwfnpf(\n",
    "    gwf,\n",
    "    xt3doptions=[(True)],\n",
    "    k=10.0,\n",
    "    save_saturation=True,\n",
    "    save_specific_discharge=True,\n",
    ")\n",
    "ic = flopy.mf6.ModflowGwfic(gwf)\n",
    "\n",
    "chdlist = []\n",
    "for icpl in cells0:\n",
    "    chdlist.append([(0, icpl), 1.0])\n",
    "for icpl in cells1:\n",
    "    chdlist.append([(0, icpl), 0.0])\n",
    "chd = flopy.mf6.ModflowGwfchd(gwf, stress_period_data=chdlist)\n",
    "oc = flopy.mf6.ModflowGwfoc(\n",
    "    gwf,\n",
    "    budget_filerecord=\"{}.bud\".format(name),\n",
    "    head_filerecord=\"{}.hds\".format(name),\n",
    "    saverecord=[(\"HEAD\", \"ALL\"), (\"BUDGET\", \"ALL\")],\n",
    "    printrecord=[(\"HEAD\", \"LAST\"), (\"BUDGET\", \"LAST\")],\n",
    ")\n",
    "sim.write_simulation()\n",
    "success, buff = sim.run_simulation(report=True, silent=True)\n",
    "\n",
    "head = gwf.output.head().get_data()\n",
    "bdobj = gwf.output.budget()\n",
    "spdis = bdobj.get_data(text=\"DATA-SPDIS\")[0]\n",
    "\n",
    "fig = plt.figure(figsize=(15, 15))\n",
    "ax = plt.subplot(1, 1, 1, aspect=\"equal\")\n",
    "pmv = flopy.plot.PlotMapView(gwf)\n",
    "pmv.plot_array(head, cmap=\"jet\", alpha=0.5)\n",
    "pmv.plot_vector(spdis[\"qx\"], spdis[\"qy\"], alpha=0.25);"
   ]
  },
  {
   "cell_type": "markdown",
   "metadata": {},
   "source": [
    "### Create Run and Post Process a MODFLOW 6 Transport Model"
   ]
  },
  {
   "cell_type": "code",
   "execution_count": null,
   "metadata": {
    "execution": {
     "iopub.execute_input": "2023-05-02T02:57:05.744173Z",
     "iopub.status.busy": "2023-05-02T02:57:05.743730Z",
     "iopub.status.idle": "2023-05-02T02:57:09.967755Z",
     "shell.execute_reply": "2023-05-02T02:57:09.966665Z"
    }
   },
   "outputs": [],
   "source": [
    "name = \"mf\"\n",
    "sim_ws = os.path.join(workspace, \"transport\")\n",
    "sim = flopy.mf6.MFSimulation(\n",
    "    sim_name=name, version=\"mf6\", exe_name=\"mf6\", sim_ws=sim_ws\n",
    ")\n",
    "tdis = flopy.mf6.ModflowTdis(\n",
    "    sim, time_units=\"DAYS\", perioddata=[[100 * 365.0, 100, 1.0]]\n",
    ")\n",
    "gwt = flopy.mf6.ModflowGwt(sim, modelname=name, save_flows=True)\n",
    "ims = flopy.mf6.ModflowIms(\n",
    "    sim,\n",
    "    print_option=\"SUMMARY\",\n",
    "    complexity=\"simple\",\n",
    "    linear_acceleration=\"bicgstab\",\n",
    "    outer_dvclose=1.0e-6,\n",
    "    inner_dvclose=1.0e-6,\n",
    ")\n",
    "disv_gridprops = voronoi_grid.get_disv_gridprops()\n",
    "nlay = 1\n",
    "top = 1.0\n",
    "botm = [0.0]\n",
    "disv = flopy.mf6.ModflowGwtdisv(\n",
    "    gwt, nlay=nlay, **disv_gridprops, top=top, botm=botm\n",
    ")\n",
    "ic = flopy.mf6.ModflowGwtic(gwt, strt=0.0)\n",
    "sto = flopy.mf6.ModflowGwtmst(gwt, porosity=0.2)\n",
    "adv = flopy.mf6.ModflowGwtadv(gwt, scheme=\"TVD\")\n",
    "dsp = flopy.mf6.ModflowGwtdsp(gwt, alh=5.0, ath1=0.5)\n",
    "sourcerecarray = [()]\n",
    "ssm = flopy.mf6.ModflowGwtssm(gwt, sources=sourcerecarray)\n",
    "cnclist = [\n",
    "    [(0, cells2[0]), 1.0],\n",
    "]\n",
    "cnc = flopy.mf6.ModflowGwtcnc(\n",
    "    gwt, maxbound=len(cnclist), stress_period_data=cnclist, pname=\"CNC-1\"\n",
    ")\n",
    "pd = [\n",
    "    (\"GWFHEAD\", \"../flow/mf.hds\"),\n",
    "    (\"GWFBUDGET\", \"../flow/mf.bud\"),\n",
    "]\n",
    "fmi = flopy.mf6.ModflowGwtfmi(gwt, packagedata=pd)\n",
    "oc = flopy.mf6.ModflowGwtoc(\n",
    "    gwt,\n",
    "    budget_filerecord=\"{}.cbc\".format(name),\n",
    "    concentration_filerecord=\"{}.ucn\".format(name),\n",
    "    saverecord=[(\"CONCENTRATION\", \"ALL\"), (\"BUDGET\", \"ALL\")],\n",
    ")\n",
    "\n",
    "sim.write_simulation()\n",
    "success, buff = sim.run_simulation(report=True, silent=True)\n",
    "\n",
    "conc = gwt.output.concentration().get_data()\n",
    "\n",
    "fig = plt.figure(figsize=(10, 10))\n",
    "ax = plt.subplot(1, 1, 1, aspect=\"equal\")\n",
    "pmv = flopy.plot.PlotMapView(gwf)\n",
    "c = pmv.plot_array(conc, cmap=\"jet\")\n",
    "pmv.contour_array(conc, levels=(0.0001, 0.001, 0.01, 0.1), colors=\"y\")\n",
    "plt.colorbar(c, shrink=0.5);"
   ]
  },
  {
   "cell_type": "markdown",
   "metadata": {},
   "source": [
    "## Building Voronoi Grid Examples"
   ]
  },
  {
   "cell_type": "markdown",
   "metadata": {},
   "source": [
    "### Irregular Domain Boundary"
   ]
  },
  {
   "cell_type": "code",
   "execution_count": null,
   "metadata": {
    "execution": {
     "iopub.execute_input": "2023-05-02T02:57:09.974186Z",
     "iopub.status.busy": "2023-05-02T02:57:09.973281Z",
     "iopub.status.idle": "2023-05-02T02:57:11.332038Z",
     "shell.execute_reply": "2023-05-02T02:57:11.330480Z"
    }
   },
   "outputs": [],
   "source": [
    "domain = [\n",
    "    [1831.381546, 6335.543757],\n",
    "    [4337.733475, 6851.136153],\n",
    "    [6428.747084, 6707.916043],\n",
    "    [8662.980804, 6493.085878],\n",
    "    [9350.437333, 5891.561415],\n",
    "    [9235.861245, 4717.156511],\n",
    "    [8963.743036, 3685.971717],\n",
    "    [8691.624826, 2783.685023],\n",
    "    [8047.13433, 2038.94045],\n",
    "    [7416.965845, 578.0953252],\n",
    "    [6414.425073, 105.4689614],\n",
    "    [5354.596258, 205.7230386],\n",
    "    [4624.173696, 363.2651598],\n",
    "    [3363.836725, 563.7733141],\n",
    "    [1330.11116, 1809.788273],\n",
    "    [399.1804436, 2998.515188],\n",
    "    [914.7728404, 5132.494831],\n",
    "]\n",
    "area_max = 100.0**2\n",
    "tri = Triangle(maximum_area=area_max, angle=30, model_ws=workspace)\n",
    "poly = np.array(domain)\n",
    "tri.add_polygon(poly)\n",
    "tri.build(verbose=False)\n",
    "\n",
    "vor = VoronoiGrid(tri)\n",
    "gridprops = vor.get_gridprops_vertexgrid()\n",
    "voronoi_grid = VertexGrid(**gridprops, nlay=1)\n",
    "\n",
    "fig = plt.figure(figsize=(10, 10))\n",
    "ax = fig.add_subplot()\n",
    "ax.set_aspect(\"equal\")\n",
    "voronoi_grid.plot(ax=ax)"
   ]
  },
  {
   "cell_type": "markdown",
   "metadata": {},
   "source": [
    "### Simple Rectangular Domain"
   ]
  },
  {
   "cell_type": "code",
   "execution_count": null,
   "metadata": {
    "execution": {
     "iopub.execute_input": "2023-05-02T02:57:11.343221Z",
     "iopub.status.busy": "2023-05-02T02:57:11.342844Z",
     "iopub.status.idle": "2023-05-02T02:57:12.141283Z",
     "shell.execute_reply": "2023-05-02T02:57:12.139892Z"
    }
   },
   "outputs": [],
   "source": [
    "xmin = 0.0\n",
    "xmax = 2.0\n",
    "ymin = 0.0\n",
    "ymax = 1.0\n",
    "area_max = 0.001\n",
    "tri = Triangle(maximum_area=area_max, angle=30, model_ws=workspace)\n",
    "poly = np.array(((xmin, ymin), (xmax, ymin), (xmax, ymax), (xmin, ymax)))\n",
    "tri.add_polygon(poly)\n",
    "tri.build(verbose=False)\n",
    "\n",
    "vor = VoronoiGrid(tri)\n",
    "gridprops = vor.get_gridprops_vertexgrid()\n",
    "voronoi_grid = VertexGrid(**gridprops, nlay=1)\n",
    "\n",
    "fig = plt.figure(figsize=(10, 10))\n",
    "ax = fig.add_subplot()\n",
    "ax.set_aspect(\"equal\")\n",
    "voronoi_grid.plot(ax=ax)"
   ]
  },
  {
   "cell_type": "markdown",
   "metadata": {},
   "source": [
    "### Circular Grid"
   ]
  },
  {
   "cell_type": "code",
   "execution_count": null,
   "metadata": {
    "execution": {
     "iopub.execute_input": "2023-05-02T02:57:12.151126Z",
     "iopub.status.busy": "2023-05-02T02:57:12.150120Z",
     "iopub.status.idle": "2023-05-02T02:57:13.925837Z",
     "shell.execute_reply": "2023-05-02T02:57:13.924154Z"
    }
   },
   "outputs": [],
   "source": [
    "theta = np.arange(0.0, 2 * np.pi, 0.2)\n",
    "radius = 100.0\n",
    "x = radius * np.cos(theta)\n",
    "y = radius * np.sin(theta)\n",
    "circle_poly = [(x, y) for x, y in zip(x, y)]\n",
    "tri = Triangle(maximum_area=5, angle=30, model_ws=workspace)\n",
    "tri.add_polygon(circle_poly)\n",
    "tri.build(verbose=False)\n",
    "\n",
    "vor = VoronoiGrid(tri)\n",
    "gridprops = vor.get_gridprops_vertexgrid()\n",
    "voronoi_grid = VertexGrid(**gridprops, nlay=1)\n",
    "\n",
    "fig = plt.figure(figsize=(10, 10))\n",
    "ax = fig.add_subplot()\n",
    "ax.set_aspect(\"equal\")\n",
    "voronoi_grid.plot(ax=ax)"
   ]
  },
  {
   "cell_type": "markdown",
   "metadata": {},
   "source": [
    "### Circular Grid with Hole"
   ]
  },
  {
   "cell_type": "code",
   "execution_count": null,
   "metadata": {
    "execution": {
     "iopub.execute_input": "2023-05-02T02:57:13.941579Z",
     "iopub.status.busy": "2023-05-02T02:57:13.940615Z",
     "iopub.status.idle": "2023-05-02T02:57:14.949052Z",
     "shell.execute_reply": "2023-05-02T02:57:14.947821Z"
    }
   },
   "outputs": [],
   "source": [
    "theta = np.arange(0.0, 2 * np.pi, 0.2)\n",
    "radius = 30.0\n",
    "x = radius * np.cos(theta) + 25.0\n",
    "y = radius * np.sin(theta) + 25.0\n",
    "inner_circle_poly = [(x, y) for x, y in zip(x, y)]\n",
    "\n",
    "tri = Triangle(maximum_area=10, angle=30, model_ws=workspace)\n",
    "tri.add_polygon(circle_poly)\n",
    "tri.add_polygon(inner_circle_poly)\n",
    "tri.add_hole((25, 25))\n",
    "tri.build(verbose=False)\n",
    "\n",
    "vor = VoronoiGrid(tri)\n",
    "gridprops = vor.get_gridprops_vertexgrid()\n",
    "voronoi_grid = VertexGrid(**gridprops, nlay=1)\n",
    "\n",
    "fig = plt.figure(figsize=(10, 10))\n",
    "ax = fig.add_subplot()\n",
    "ax.set_aspect(\"equal\")\n",
    "voronoi_grid.plot(ax=ax)"
   ]
  },
  {
   "cell_type": "markdown",
   "metadata": {},
   "source": [
    "### Regions with Different Refinement"
   ]
  },
  {
   "cell_type": "code",
   "execution_count": null,
   "metadata": {
    "execution": {
     "iopub.execute_input": "2023-05-02T02:57:14.962698Z",
     "iopub.status.busy": "2023-05-02T02:57:14.961679Z",
     "iopub.status.idle": "2023-05-02T02:57:15.381769Z",
     "shell.execute_reply": "2023-05-02T02:57:15.380172Z"
    }
   },
   "outputs": [],
   "source": [
    "active_domain = [(0, 0), (100, 0), (100, 100), (0, 100)]\n",
    "area1 = [(10, 10), (40, 10), (40, 40), (10, 40)]\n",
    "area2 = [(60, 60), (80, 60), (80, 80), (60, 80)]\n",
    "tri = Triangle(angle=30, model_ws=workspace)\n",
    "tri.add_polygon(active_domain)\n",
    "tri.add_polygon(area1)\n",
    "tri.add_polygon(area2)\n",
    "tri.add_region((1, 1), 0, maximum_area=100)  # point inside active domain\n",
    "tri.add_region((11, 11), 1, maximum_area=10)  # point inside area1\n",
    "tri.add_region((61, 61), 2, maximum_area=3)  # point inside area2\n",
    "tri.build(verbose=False)\n",
    "\n",
    "vor = VoronoiGrid(tri)\n",
    "gridprops = vor.get_gridprops_vertexgrid()\n",
    "voronoi_grid = VertexGrid(**gridprops, nlay=1)\n",
    "\n",
    "fig = plt.figure(figsize=(10, 10))\n",
    "ax = fig.add_subplot()\n",
    "ax.set_aspect(\"equal\")\n",
    "voronoi_grid.plot(ax=ax)"
   ]
  },
  {
   "cell_type": "markdown",
   "metadata": {},
   "source": [
    "### Regions with Different Refinement and Hole"
   ]
  },
  {
   "cell_type": "code",
   "execution_count": null,
   "metadata": {
    "execution": {
     "iopub.execute_input": "2023-05-02T02:57:15.387192Z",
     "iopub.status.busy": "2023-05-02T02:57:15.386758Z",
     "iopub.status.idle": "2023-05-02T02:57:16.159025Z",
     "shell.execute_reply": "2023-05-02T02:57:16.157901Z"
    },
    "tags": []
   },
   "outputs": [],
   "source": [
    "active_domain = [(0, 0), (100, 0), (100, 100), (0, 100)]\n",
    "area1 = [(10, 10), (40, 10), (40, 40), (10, 40)]\n",
    "area2 = [(70, 70), (90, 70), (90, 90), (70, 90)]\n",
    "\n",
    "tri = Triangle(angle=30, model_ws=workspace)\n",
    "\n",
    "# requirement that active_domain is first polygon to be added\n",
    "tri.add_polygon(active_domain)\n",
    "\n",
    "# requirement that any holes be added next\n",
    "theta = np.arange(0.0, 2 * np.pi, 0.2)\n",
    "radius = 10.0\n",
    "x = radius * np.cos(theta) + 50.0\n",
    "y = radius * np.sin(theta) + 70.0\n",
    "circle_poly0 = [(x, y) for x, y in zip(x, y)]\n",
    "tri.add_polygon(circle_poly0)\n",
    "tri.add_hole((50, 70))\n",
    "\n",
    "# Add a polygon to force cells to conform to it\n",
    "theta = np.arange(0.0, 2 * np.pi, 0.2)\n",
    "radius = 10.0\n",
    "x = radius * np.cos(theta) + 70.0\n",
    "y = radius * np.sin(theta) + 20.0\n",
    "circle_poly1 = [(x, y) for x, y in zip(x, y)]\n",
    "tri.add_polygon(circle_poly1)\n",
    "# tri.add_hole((70, 20))\n",
    "\n",
    "# add line through domain to force conforming cells\n",
    "line = [(x, x) for x in np.linspace(11, 89, 100)]\n",
    "tri.add_polygon(line)\n",
    "\n",
    "\n",
    "# then regions and other polygons should follow\n",
    "tri.add_polygon(area1)\n",
    "tri.add_polygon(area2)\n",
    "tri.add_region((1, 1), 0, maximum_area=100)  # point inside active domain\n",
    "tri.add_region((11, 11), 1, maximum_area=10)  # point inside area1\n",
    "tri.add_region((70, 70), 2, maximum_area=1)  # point inside area2\n",
    "\n",
    "tri.build(verbose=False)\n",
    "\n",
    "vor = VoronoiGrid(tri)\n",
    "gridprops = vor.get_gridprops_vertexgrid()\n",
    "voronoi_grid = VertexGrid(**gridprops, nlay=1)\n",
    "\n",
    "fig = plt.figure(figsize=(10, 10))\n",
    "ax = fig.add_subplot()\n",
    "ax.set_aspect(\"equal\")\n",
    "voronoi_grid.plot(ax=ax)"
   ]
  },
  {
   "cell_type": "code",
   "execution_count": null,
   "metadata": {
    "execution": {
     "iopub.execute_input": "2023-05-02T02:57:16.168501Z",
     "iopub.status.busy": "2023-05-02T02:57:16.168084Z",
     "iopub.status.idle": "2023-05-02T02:57:16.189708Z",
     "shell.execute_reply": "2023-05-02T02:57:16.188250Z"
    }
   },
   "outputs": [],
   "source": [
    "try:\n",
    "    # ignore PermissionError on Windows\n",
    "    temp_dir.cleanup()\n",
    "except:\n",
    "    pass"
   ]
  }
 ],
 "metadata": {
  "kernelspec": {
   "display_name": "Python 3 (ipykernel)",
   "language": "python",
   "name": "python3"
  },
  "language_info": {
   "codemirror_mode": {
    "name": "ipython",
    "version": 3
   },
   "file_extension": ".py",
   "mimetype": "text/x-python",
   "name": "python",
   "nbconvert_exporter": "python",
   "pygments_lexer": "ipython3",
   "version": "3.11.0"
  }
 },
 "nbformat": 4,
 "nbformat_minor": 4
}
